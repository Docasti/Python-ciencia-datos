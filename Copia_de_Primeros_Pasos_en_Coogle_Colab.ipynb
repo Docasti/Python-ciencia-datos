{
  "nbformat": 4,
  "nbformat_minor": 0,
  "metadata": {
    "colab": {
      "provenance": [],
      "include_colab_link": true
    },
    "kernelspec": {
      "name": "python3",
      "display_name": "Python 3"
    },
    "language_info": {
      "name": "python"
    }
  },
  "cells": [
    {
      "cell_type": "markdown",
      "metadata": {
        "id": "view-in-github",
        "colab_type": "text"
      },
      "source": [
        "<a href=\"https://colab.research.google.com/github/Docasti/Python-ciencia-datos/blob/main/Copia_de_Primeros_Pasos_en_Coogle_Colab.ipynb\" target=\"_parent\"><img src=\"https://colab.research.google.com/assets/colab-badge.svg\" alt=\"Open In Colab\"/></a>"
      ]
    },
    {
      "cell_type": "code",
      "execution_count": 2,
      "metadata": {
        "id": "PWkuilbLs_BD",
        "outputId": "7ce38629-e482-40b9-cf5f-528c3e6640d7",
        "colab": {
          "base_uri": "https://localhost:8080/"
        }
      },
      "outputs": [
        {
          "output_type": "stream",
          "name": "stdout",
          "text": [
            " el sueldo de un programador en argentina es de 936000 pesos\n"
          ]
        }
      ],
      "source": [
        "\n",
        "u =1800\n",
        "c = 520\n",
        "pesos = u * c\n",
        "print(f\" el sueldo de un programador en argentina es de {pesos} pesos\")"
      ]
    }
  ]
}